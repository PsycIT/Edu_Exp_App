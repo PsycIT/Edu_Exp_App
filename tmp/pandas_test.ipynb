{
 "cells": [
  {
   "cell_type": "code",
   "execution_count": 2,
   "outputs": [],
   "source": [
    "import seaborn as sns\n",
    "import pandas as pd\n",
    "import matplotlib.pyplot as plt\n",
    "\n",
    "import numpy as np\n",
    "import os"
   ],
   "metadata": {
    "collapsed": false,
    "ExecuteTime": {
     "end_time": "2023-07-19T05:47:57.897629700Z",
     "start_time": "2023-07-19T05:47:57.863658900Z"
    }
   }
  },
  {
   "cell_type": "code",
   "execution_count": 42,
   "outputs": [
    {
     "data": {
      "text/plain": "                 status            ts  ans  confidence  res\n0             EXP_START  1.689653e+09   -1          -1   -1\n1             TE1_START  1.689653e+09   -1          -1   -1\n2   TE1_END&CONF1_START  1.689653e+09    5          -1    1\n3   CONF1_END&TE2_START  1.689653e+09   -1           4   -1\n4   TE2_END&CONF2_START  1.689653e+09    4          -1    0\n5   CONF2_END&TE3_START  1.689653e+09   -1           4   -1\n6   TE3_END&CONF3_START  1.689653e+09    4          -1    0\n7   CONF3_END&TE4_START  1.689653e+09   -1           4   -1\n8   TE4_END&CONF4_START  1.689653e+09    3          -1    0\n9   CONF4_END&TE5_START  1.689653e+09   -1           3   -1\n10  TE5_END&CONF5_START  1.689653e+09    5          -1    1\n11            CONF5_END  1.689653e+09   -1           5   -1",
      "text/html": "<div>\n<style scoped>\n    .dataframe tbody tr th:only-of-type {\n        vertical-align: middle;\n    }\n\n    .dataframe tbody tr th {\n        vertical-align: top;\n    }\n\n    .dataframe thead th {\n        text-align: right;\n    }\n</style>\n<table border=\"1\" class=\"dataframe\">\n  <thead>\n    <tr style=\"text-align: right;\">\n      <th></th>\n      <th>status</th>\n      <th>ts</th>\n      <th>ans</th>\n      <th>confidence</th>\n      <th>res</th>\n    </tr>\n  </thead>\n  <tbody>\n    <tr>\n      <th>0</th>\n      <td>EXP_START</td>\n      <td>1.689653e+09</td>\n      <td>-1</td>\n      <td>-1</td>\n      <td>-1</td>\n    </tr>\n    <tr>\n      <th>1</th>\n      <td>TE1_START</td>\n      <td>1.689653e+09</td>\n      <td>-1</td>\n      <td>-1</td>\n      <td>-1</td>\n    </tr>\n    <tr>\n      <th>2</th>\n      <td>TE1_END&amp;CONF1_START</td>\n      <td>1.689653e+09</td>\n      <td>5</td>\n      <td>-1</td>\n      <td>1</td>\n    </tr>\n    <tr>\n      <th>3</th>\n      <td>CONF1_END&amp;TE2_START</td>\n      <td>1.689653e+09</td>\n      <td>-1</td>\n      <td>4</td>\n      <td>-1</td>\n    </tr>\n    <tr>\n      <th>4</th>\n      <td>TE2_END&amp;CONF2_START</td>\n      <td>1.689653e+09</td>\n      <td>4</td>\n      <td>-1</td>\n      <td>0</td>\n    </tr>\n    <tr>\n      <th>5</th>\n      <td>CONF2_END&amp;TE3_START</td>\n      <td>1.689653e+09</td>\n      <td>-1</td>\n      <td>4</td>\n      <td>-1</td>\n    </tr>\n    <tr>\n      <th>6</th>\n      <td>TE3_END&amp;CONF3_START</td>\n      <td>1.689653e+09</td>\n      <td>4</td>\n      <td>-1</td>\n      <td>0</td>\n    </tr>\n    <tr>\n      <th>7</th>\n      <td>CONF3_END&amp;TE4_START</td>\n      <td>1.689653e+09</td>\n      <td>-1</td>\n      <td>4</td>\n      <td>-1</td>\n    </tr>\n    <tr>\n      <th>8</th>\n      <td>TE4_END&amp;CONF4_START</td>\n      <td>1.689653e+09</td>\n      <td>3</td>\n      <td>-1</td>\n      <td>0</td>\n    </tr>\n    <tr>\n      <th>9</th>\n      <td>CONF4_END&amp;TE5_START</td>\n      <td>1.689653e+09</td>\n      <td>-1</td>\n      <td>3</td>\n      <td>-1</td>\n    </tr>\n    <tr>\n      <th>10</th>\n      <td>TE5_END&amp;CONF5_START</td>\n      <td>1.689653e+09</td>\n      <td>5</td>\n      <td>-1</td>\n      <td>1</td>\n    </tr>\n    <tr>\n      <th>11</th>\n      <td>CONF5_END</td>\n      <td>1.689653e+09</td>\n      <td>-1</td>\n      <td>5</td>\n      <td>-1</td>\n    </tr>\n  </tbody>\n</table>\n</div>"
     },
     "execution_count": 42,
     "metadata": {},
     "output_type": "execute_result"
    }
   ],
   "source": [
    "df = pd.read_csv('output/test/post/202307181308_InTaekJung_post_1.csv')\n",
    "df"
   ],
   "metadata": {
    "collapsed": false,
    "ExecuteTime": {
     "end_time": "2023-07-19T06:18:55.717217100Z",
     "start_time": "2023-07-19T06:18:55.687186Z"
    }
   }
  },
  {
   "cell_type": "code",
   "execution_count": 48,
   "outputs": [
    {
     "name": "stdout",
     "output_type": "stream",
     "text": [
      "[4, 6, 8] [2, 10]\n",
      "                status            ts  ans  confidence  res\n",
      "4  TE2_END&CONF2_START  1.689653e+09    4          -1    0\n",
      "6  TE3_END&CONF3_START  1.689653e+09    4          -1    0\n",
      "8  TE4_END&CONF4_START  1.689653e+09    3          -1    0 \n",
      "                  status            ts  ans  confidence  res\n",
      "2   TE1_END&CONF1_START  1.689653e+09    5          -1    1\n",
      "10  TE5_END&CONF5_START  1.689653e+09    5          -1    1\n"
     ]
    }
   ],
   "source": [
    "inCorrAnsIdx = df.index[df['res'] == 0].tolist()\n",
    "corrAnsIdx = df.index[df['res'] == 1].tolist()\n",
    "print(inCorrAnsIdx, corrAnsIdx)\n",
    "\n",
    "df_inCorr = df.copy().iloc[inCorrAnsIdx, :]\n",
    "df_corr = df.copy().iloc[corrAnsIdx, :]\n",
    "print(df_inCorr.head(), '\\n', df_corr.head())"
   ],
   "metadata": {
    "collapsed": false,
    "ExecuteTime": {
     "end_time": "2023-07-19T06:27:52.527564100Z",
     "start_time": "2023-07-19T06:27:52.496315400Z"
    }
   }
  },
  {
   "cell_type": "code",
   "execution_count": 46,
   "outputs": [
    {
     "name": "stdout",
     "output_type": "stream",
     "text": [
      "4 2\n",
      "6 10\n",
      "8 None\n",
      "                status            ts  ans  confidence  res\n",
      "4  TE2_END&CONF2_START  1.689653e+09    4           4    0\n",
      "6  TE3_END&CONF3_START  1.689653e+09    4           4    0\n",
      "8  TE4_END&CONF4_START  1.689653e+09    3           3    0 \n",
      "                  status            ts  ans  confidence  res\n",
      "2   TE1_END&CONF1_START  1.689653e+09    5           4    1\n",
      "10  TE5_END&CONF5_START  1.689653e+09    5           5    1\n"
     ]
    }
   ],
   "source": [
    "from itertools import zip_longest\n",
    "\n",
    "for inCorrIdx, corrIdx in zip_longest(inCorrAnsIdx, corrAnsIdx):\n",
    "    print(inCorrIdx, corrIdx)\n",
    "    if inCorrIdx is not None:\n",
    "        df_inCorr.at[inCorrIdx, 'confidence'] = df.at[inCorrIdx+1, 'confidence']\n",
    "    if corrIdx is not None:\n",
    "        df_corr.at[corrIdx, 'confidence'] = df.at[corrIdx+1, 'confidence']\n",
    "\n",
    "print(df_inCorr.head(), '\\n', df_corr.head())"
   ],
   "metadata": {
    "collapsed": false,
    "ExecuteTime": {
     "end_time": "2023-07-19T06:23:38.308009100Z",
     "start_time": "2023-07-19T06:23:38.275848800Z"
    }
   }
  },
  {
   "cell_type": "code",
   "execution_count": 51,
   "outputs": [
    {
     "name": "stdout",
     "output_type": "stream",
     "text": [
      "틀린문제:  3 \n",
      "정답률:  0.4\n"
     ]
    }
   ],
   "source": [
    "inCorrCnt, corrCnt = df_inCorr.shape[0], df_corr.shape[0]\n",
    "\n",
    "\n",
    "print('틀린문제: ', inCorrCnt,\n",
    "      '\\n정답률: ', corrCnt/5)"
   ],
   "metadata": {
    "collapsed": false,
    "ExecuteTime": {
     "end_time": "2023-07-19T06:34:02.159635800Z",
     "start_time": "2023-07-19T06:34:02.144010900Z"
    }
   }
  },
  {
   "cell_type": "code",
   "execution_count": null,
   "outputs": [],
   "source": [],
   "metadata": {
    "collapsed": false
   }
  }
 ],
 "metadata": {
  "kernelspec": {
   "display_name": "Python 3 (ipykernel)",
   "language": "python",
   "name": "python3"
  },
  "language_info": {
   "codemirror_mode": {
    "name": "ipython",
    "version": 3
   },
   "file_extension": ".py",
   "mimetype": "text/x-python",
   "name": "python",
   "nbconvert_exporter": "python",
   "pygments_lexer": "ipython3",
   "version": "3.8.13"
  }
 },
 "nbformat": 4,
 "nbformat_minor": 5
}
